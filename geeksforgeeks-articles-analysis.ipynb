{
 "cells": [
  {
   "cell_type": "markdown",
   "id": "61a0ba24",
   "metadata": {
    "papermill": {
     "duration": 0.026079,
     "end_time": "2022-04-19T16:00:26.060896",
     "exception": false,
     "start_time": "2022-04-19T16:00:26.034817",
     "status": "completed"
    },
    "tags": []
   },
   "source": [
    "## Importing Libraries"
   ]
  },
  {
   "cell_type": "code",
   "execution_count": 1,
   "id": "72c7e665",
   "metadata": {
    "execution": {
     "iopub.execute_input": "2022-04-19T16:00:26.124723Z",
     "iopub.status.busy": "2022-04-19T16:00:26.123683Z",
     "iopub.status.idle": "2022-04-19T16:00:26.127305Z",
     "shell.execute_reply": "2022-04-19T16:00:26.127855Z",
     "shell.execute_reply.started": "2022-04-19T15:59:47.635386Z"
    },
    "papermill": {
     "duration": 0.040173,
     "end_time": "2022-04-19T16:00:26.128145",
     "exception": false,
     "start_time": "2022-04-19T16:00:26.087972",
     "status": "completed"
    },
    "tags": []
   },
   "outputs": [],
   "source": [
    "import numpy as np\n",
    "import pandas as pd"
   ]
  },
  {
   "cell_type": "markdown",
   "id": "411c8961",
   "metadata": {
    "papermill": {
     "duration": 0.027364,
     "end_time": "2022-04-19T16:00:26.180782",
     "exception": false,
     "start_time": "2022-04-19T16:00:26.153418",
     "status": "completed"
    },
    "tags": []
   },
   "source": [
    "## Dataset Preprocessing"
   ]
  },
  {
   "cell_type": "code",
   "execution_count": 2,
   "id": "296f0d04",
   "metadata": {
    "execution": {
     "iopub.execute_input": "2022-04-19T16:00:26.246191Z",
     "iopub.status.busy": "2022-04-19T16:00:26.245462Z",
     "iopub.status.idle": "2022-04-19T16:00:26.449404Z",
     "shell.execute_reply": "2022-04-19T16:00:26.449910Z",
     "shell.execute_reply.started": "2022-04-19T15:59:47.661334Z"
    },
    "papermill": {
     "duration": 0.240275,
     "end_time": "2022-04-19T16:00:26.450081",
     "exception": false,
     "start_time": "2022-04-19T16:00:26.209806",
     "status": "completed"
    },
    "tags": []
   },
   "outputs": [
    {
     "data": {
      "text/html": [
       "<div>\n",
       "<style scoped>\n",
       "    .dataframe tbody tr th:only-of-type {\n",
       "        vertical-align: middle;\n",
       "    }\n",
       "\n",
       "    .dataframe tbody tr th {\n",
       "        vertical-align: top;\n",
       "    }\n",
       "\n",
       "    .dataframe thead th {\n",
       "        text-align: right;\n",
       "    }\n",
       "</style>\n",
       "<table border=\"1\" class=\"dataframe\">\n",
       "  <thead>\n",
       "    <tr style=\"text-align: right;\">\n",
       "      <th></th>\n",
       "      <th>title</th>\n",
       "      <th>author_id</th>\n",
       "      <th>last_updated</th>\n",
       "      <th>link</th>\n",
       "      <th>category</th>\n",
       "    </tr>\n",
       "  </thead>\n",
       "  <tbody>\n",
       "    <tr>\n",
       "      <th>0</th>\n",
       "      <td>5 Best Practices For Writing SQL Joins</td>\n",
       "      <td>priyankab14</td>\n",
       "      <td>21 Feb, 2022</td>\n",
       "      <td>https://www.geeksforgeeks.org/5-best-practices...</td>\n",
       "      <td>easy</td>\n",
       "    </tr>\n",
       "    <tr>\n",
       "      <th>1</th>\n",
       "      <td>Foundation CSS Dropdown Menu</td>\n",
       "      <td>ishankhandelwals</td>\n",
       "      <td>20 Feb, 2022</td>\n",
       "      <td>https://www.geeksforgeeks.org/foundation-css-d...</td>\n",
       "      <td>easy</td>\n",
       "    </tr>\n",
       "    <tr>\n",
       "      <th>2</th>\n",
       "      <td>Top 20 Excel Shortcuts That You Need To Know</td>\n",
       "      <td>priyankab14</td>\n",
       "      <td>17 Feb, 2022</td>\n",
       "      <td>https://www.geeksforgeeks.org/top-20-excel-sho...</td>\n",
       "      <td>easy</td>\n",
       "    </tr>\n",
       "    <tr>\n",
       "      <th>3</th>\n",
       "      <td>Servlet – Fetching Result</td>\n",
       "      <td>nishatiwari1719</td>\n",
       "      <td>17 Feb, 2022</td>\n",
       "      <td>https://www.geeksforgeeks.org/servlet-fetching...</td>\n",
       "      <td>easy</td>\n",
       "    </tr>\n",
       "    <tr>\n",
       "      <th>4</th>\n",
       "      <td>Suffix Sum Array</td>\n",
       "      <td>rohit768</td>\n",
       "      <td>21 Feb, 2022</td>\n",
       "      <td>https://www.geeksforgeeks.org/suffix-sum-array/</td>\n",
       "      <td>easy</td>\n",
       "    </tr>\n",
       "    <tr>\n",
       "      <th>5</th>\n",
       "      <td>Kelvin To Celsius Formula</td>\n",
       "      <td>ramneek2307</td>\n",
       "      <td>16 Feb, 2022</td>\n",
       "      <td>https://www.geeksforgeeks.org/kelvin-to-celsiu...</td>\n",
       "      <td>easy</td>\n",
       "    </tr>\n",
       "    <tr>\n",
       "      <th>6</th>\n",
       "      <td>How to Install MongoDB for VSCode?</td>\n",
       "      <td>ramneek2307</td>\n",
       "      <td>12 Feb, 2022</td>\n",
       "      <td>https://www.geeksforgeeks.org/how-to-install-m...</td>\n",
       "      <td>easy</td>\n",
       "    </tr>\n",
       "    <tr>\n",
       "      <th>7</th>\n",
       "      <td>7 Highest Paying Programming Languages For Fre...</td>\n",
       "      <td>vanshika4042</td>\n",
       "      <td>18 Feb, 2022</td>\n",
       "      <td>https://www.geeksforgeeks.org/7-highest-paying...</td>\n",
       "      <td>easy</td>\n",
       "    </tr>\n",
       "    <tr>\n",
       "      <th>8</th>\n",
       "      <td>Free Resume Builder By GeeksforGeeks – Create ...</td>\n",
       "      <td>GeeksforGeeks</td>\n",
       "      <td>08 Feb, 2022</td>\n",
       "      <td>https://www.geeksforgeeks.org/free-resume-buil...</td>\n",
       "      <td>easy</td>\n",
       "    </tr>\n",
       "    <tr>\n",
       "      <th>9</th>\n",
       "      <td>8 Best Tips to Improve Your JavaScript Skills</td>\n",
       "      <td>prateekjangid10</td>\n",
       "      <td>06 Feb, 2022</td>\n",
       "      <td>https://www.geeksforgeeks.org/8-best-tips-to-i...</td>\n",
       "      <td>easy</td>\n",
       "    </tr>\n",
       "  </tbody>\n",
       "</table>\n",
       "</div>"
      ],
      "text/plain": [
       "                                               title         author_id  \\\n",
       "0             5 Best Practices For Writing SQL Joins       priyankab14   \n",
       "1                       Foundation CSS Dropdown Menu  ishankhandelwals   \n",
       "2       Top 20 Excel Shortcuts That You Need To Know       priyankab14   \n",
       "3                          Servlet – Fetching Result   nishatiwari1719   \n",
       "4                                   Suffix Sum Array          rohit768   \n",
       "5                          Kelvin To Celsius Formula       ramneek2307   \n",
       "6                 How to Install MongoDB for VSCode?       ramneek2307   \n",
       "7  7 Highest Paying Programming Languages For Fre...      vanshika4042   \n",
       "8  Free Resume Builder By GeeksforGeeks – Create ...     GeeksforGeeks   \n",
       "9      8 Best Tips to Improve Your JavaScript Skills   prateekjangid10   \n",
       "\n",
       "   last_updated                                               link category  \n",
       "0  21 Feb, 2022  https://www.geeksforgeeks.org/5-best-practices...     easy  \n",
       "1  20 Feb, 2022  https://www.geeksforgeeks.org/foundation-css-d...     easy  \n",
       "2  17 Feb, 2022  https://www.geeksforgeeks.org/top-20-excel-sho...     easy  \n",
       "3  17 Feb, 2022  https://www.geeksforgeeks.org/servlet-fetching...     easy  \n",
       "4  21 Feb, 2022    https://www.geeksforgeeks.org/suffix-sum-array/     easy  \n",
       "5  16 Feb, 2022  https://www.geeksforgeeks.org/kelvin-to-celsiu...     easy  \n",
       "6  12 Feb, 2022  https://www.geeksforgeeks.org/how-to-install-m...     easy  \n",
       "7  18 Feb, 2022  https://www.geeksforgeeks.org/7-highest-paying...     easy  \n",
       "8  08 Feb, 2022  https://www.geeksforgeeks.org/free-resume-buil...     easy  \n",
       "9  06 Feb, 2022  https://www.geeksforgeeks.org/8-best-tips-to-i...     easy  "
      ]
     },
     "execution_count": 2,
     "metadata": {},
     "output_type": "execute_result"
    }
   ],
   "source": [
    "df = pd.read_csv('/kaggle/input/geeksforgeeks-articles/articles.csv')\n",
    "df.head(10)"
   ]
  },
  {
   "cell_type": "code",
   "execution_count": 3,
   "id": "de8aef4c",
   "metadata": {
    "execution": {
     "iopub.execute_input": "2022-04-19T16:00:26.518532Z",
     "iopub.status.busy": "2022-04-19T16:00:26.504452Z",
     "iopub.status.idle": "2022-04-19T16:00:26.522543Z",
     "shell.execute_reply": "2022-04-19T16:00:26.523054Z",
     "shell.execute_reply.started": "2022-04-19T15:59:47.856383Z"
    },
    "papermill": {
     "duration": 0.047061,
     "end_time": "2022-04-19T16:00:26.523233",
     "exception": false,
     "start_time": "2022-04-19T16:00:26.476172",
     "status": "completed"
    },
    "tags": []
   },
   "outputs": [
    {
     "data": {
      "text/plain": [
       "True"
      ]
     },
     "execution_count": 3,
     "metadata": {},
     "output_type": "execute_result"
    }
   ],
   "source": [
    "df.isnull().values.any()"
   ]
  },
  {
   "cell_type": "code",
   "execution_count": 4,
   "id": "bf47ee6a",
   "metadata": {
    "execution": {
     "iopub.execute_input": "2022-04-19T16:00:26.580021Z",
     "iopub.status.busy": "2022-04-19T16:00:26.579356Z",
     "iopub.status.idle": "2022-04-19T16:00:26.593837Z",
     "shell.execute_reply": "2022-04-19T16:00:26.594276Z",
     "shell.execute_reply.started": "2022-04-19T15:59:47.871235Z"
    },
    "papermill": {
     "duration": 0.045361,
     "end_time": "2022-04-19T16:00:26.594453",
     "exception": false,
     "start_time": "2022-04-19T16:00:26.549092",
     "status": "completed"
    },
    "tags": []
   },
   "outputs": [
    {
     "data": {
      "text/plain": [
       "title            0\n",
       "author_id       19\n",
       "last_updated    18\n",
       "link             0\n",
       "category         0\n",
       "dtype: int64"
      ]
     },
     "execution_count": 4,
     "metadata": {},
     "output_type": "execute_result"
    }
   ],
   "source": [
    "df.isnull().sum()"
   ]
  },
  {
   "cell_type": "code",
   "execution_count": 5,
   "id": "9a1d4bf0",
   "metadata": {
    "execution": {
     "iopub.execute_input": "2022-04-19T16:00:26.651560Z",
     "iopub.status.busy": "2022-04-19T16:00:26.650898Z",
     "iopub.status.idle": "2022-04-19T16:00:26.679746Z",
     "shell.execute_reply": "2022-04-19T16:00:26.680243Z",
     "shell.execute_reply.started": "2022-04-19T15:59:47.895429Z"
    },
    "papermill": {
     "duration": 0.05939,
     "end_time": "2022-04-19T16:00:26.680403",
     "exception": false,
     "start_time": "2022-04-19T16:00:26.621013",
     "status": "completed"
    },
    "tags": []
   },
   "outputs": [
    {
     "data": {
      "text/plain": [
       "title           0\n",
       "author_id       0\n",
       "last_updated    0\n",
       "link            0\n",
       "category        0\n",
       "dtype: int64"
      ]
     },
     "execution_count": 5,
     "metadata": {},
     "output_type": "execute_result"
    }
   ],
   "source": [
    "df.dropna(inplace=True)\n",
    "df.isnull().sum()"
   ]
  },
  {
   "cell_type": "markdown",
   "id": "e511b9c4",
   "metadata": {
    "papermill": {
     "duration": 0.027233,
     "end_time": "2022-04-19T16:00:26.734122",
     "exception": false,
     "start_time": "2022-04-19T16:00:26.706889",
     "status": "completed"
    },
    "tags": []
   },
   "source": [
    "## 1) Authors in the dataset"
   ]
  },
  {
   "cell_type": "code",
   "execution_count": 6,
   "id": "2b147cca",
   "metadata": {
    "execution": {
     "iopub.execute_input": "2022-04-19T16:00:26.792200Z",
     "iopub.status.busy": "2022-04-19T16:00:26.791219Z",
     "iopub.status.idle": "2022-04-19T16:00:26.811893Z",
     "shell.execute_reply": "2022-04-19T16:00:26.812394Z",
     "shell.execute_reply.started": "2022-04-19T15:59:47.931294Z"
    },
    "papermill": {
     "duration": 0.05117,
     "end_time": "2022-04-19T16:00:26.812594",
     "exception": false,
     "start_time": "2022-04-19T16:00:26.761424",
     "status": "completed"
    },
    "tags": []
   },
   "outputs": [
    {
     "data": {
      "text/plain": [
       "count             34551\n",
       "unique             5589\n",
       "top       GeeksforGeeks\n",
       "freq              11957\n",
       "Name: author_id, dtype: object"
      ]
     },
     "execution_count": 6,
     "metadata": {},
     "output_type": "execute_result"
    }
   ],
   "source": [
    "df['author_id'].describe()"
   ]
  },
  {
   "cell_type": "markdown",
   "id": "fa5dffe6",
   "metadata": {
    "papermill": {
     "duration": 0.027188,
     "end_time": "2022-04-19T16:00:26.867730",
     "exception": false,
     "start_time": "2022-04-19T16:00:26.840542",
     "status": "completed"
    },
    "tags": []
   },
   "source": [
    "There are 5589 authors, 34551 articles in the dataset and GeeksforGeeks having the most number of articles."
   ]
  },
  {
   "cell_type": "markdown",
   "id": "b58c1bff",
   "metadata": {
    "papermill": {
     "duration": 0.026605,
     "end_time": "2022-04-19T16:00:26.921047",
     "exception": false,
     "start_time": "2022-04-19T16:00:26.894442",
     "status": "completed"
    },
    "tags": []
   },
   "source": [
    "## 2) Most popular author(in terms of number of articles)"
   ]
  },
  {
   "cell_type": "code",
   "execution_count": 7,
   "id": "fc945d8f",
   "metadata": {
    "execution": {
     "iopub.execute_input": "2022-04-19T16:00:26.979492Z",
     "iopub.status.busy": "2022-04-19T16:00:26.978492Z",
     "iopub.status.idle": "2022-04-19T16:00:26.995865Z",
     "shell.execute_reply": "2022-04-19T16:00:26.995323Z",
     "shell.execute_reply.started": "2022-04-19T15:59:47.955117Z"
    },
    "papermill": {
     "duration": 0.047536,
     "end_time": "2022-04-19T16:00:26.996020",
     "exception": false,
     "start_time": "2022-04-19T16:00:26.948484",
     "status": "completed"
    },
    "tags": []
   },
   "outputs": [
    {
     "data": {
      "text/plain": [
       "author_id\n",
       "GeeksforGeeks          2296\n",
       "ManasChhabra2           293\n",
       "Shubrodeep Banerjee     112\n",
       "Chinmoy Lenka            99\n",
       "manjeet_04               91\n",
       "dtype: int64"
      ]
     },
     "execution_count": 7,
     "metadata": {},
     "output_type": "execute_result"
    }
   ],
   "source": [
    "df[df['category']=='basic'].groupby('author_id').size().sort_values(ascending=False).head()"
   ]
  },
  {
   "cell_type": "code",
   "execution_count": 8,
   "id": "766cb766",
   "metadata": {
    "execution": {
     "iopub.execute_input": "2022-04-19T16:00:27.059276Z",
     "iopub.status.busy": "2022-04-19T16:00:27.058598Z",
     "iopub.status.idle": "2022-04-19T16:00:27.069269Z",
     "shell.execute_reply": "2022-04-19T16:00:27.068794Z",
     "shell.execute_reply.started": "2022-04-19T15:59:47.976865Z"
    },
    "papermill": {
     "duration": 0.046193,
     "end_time": "2022-04-19T16:00:27.069398",
     "exception": false,
     "start_time": "2022-04-19T16:00:27.023205",
     "status": "completed"
    },
    "tags": []
   },
   "outputs": [
    {
     "data": {
      "text/plain": [
       "author_id\n",
       "GeeksforGeeks     3825\n",
       "sarthak_ishu11      77\n",
       "manjeet_04          73\n",
       "Striver             72\n",
       "Chinmoy Lenka       55\n",
       "dtype: int64"
      ]
     },
     "execution_count": 8,
     "metadata": {},
     "output_type": "execute_result"
    }
   ],
   "source": [
    "df[df['category']=='easy'].groupby('author_id').size().sort_values(ascending=False).head()"
   ]
  },
  {
   "cell_type": "code",
   "execution_count": 9,
   "id": "0514566c",
   "metadata": {
    "execution": {
     "iopub.execute_input": "2022-04-19T16:00:27.129601Z",
     "iopub.status.busy": "2022-04-19T16:00:27.128955Z",
     "iopub.status.idle": "2022-04-19T16:00:27.143794Z",
     "shell.execute_reply": "2022-04-19T16:00:27.143270Z",
     "shell.execute_reply.started": "2022-04-19T15:59:47.994242Z"
    },
    "papermill": {
     "duration": 0.045227,
     "end_time": "2022-04-19T16:00:27.143929",
     "exception": false,
     "start_time": "2022-04-19T16:00:27.098702",
     "status": "completed"
    },
    "tags": []
   },
   "outputs": [
    {
     "data": {
      "text/plain": [
       "author_id\n",
       "GeeksforGeeks    3981\n",
       "Striver            91\n",
       "pawan_asipu        53\n",
       "manjeet_04         49\n",
       "anuupadhyay        49\n",
       "dtype: int64"
      ]
     },
     "execution_count": 9,
     "metadata": {},
     "output_type": "execute_result"
    }
   ],
   "source": [
    "df[df['category']=='medium'].groupby('author_id').size().sort_values(ascending=False).head()"
   ]
  },
  {
   "cell_type": "code",
   "execution_count": 10,
   "id": "7d7f3ecf",
   "metadata": {
    "execution": {
     "iopub.execute_input": "2022-04-19T16:00:27.207126Z",
     "iopub.status.busy": "2022-04-19T16:00:27.202056Z",
     "iopub.status.idle": "2022-04-19T16:00:27.216031Z",
     "shell.execute_reply": "2022-04-19T16:00:27.215465Z",
     "shell.execute_reply.started": "2022-04-19T15:59:48.016175Z"
    },
    "papermill": {
     "duration": 0.044154,
     "end_time": "2022-04-19T16:00:27.216178",
     "exception": false,
     "start_time": "2022-04-19T16:00:27.172024",
     "status": "completed"
    },
    "tags": []
   },
   "outputs": [
    {
     "data": {
      "text/plain": [
       "author_id\n",
       "GeeksforGeeks        1570\n",
       "pawan_asipu            27\n",
       "Striver                26\n",
       "DivyanshuShekhar1      25\n",
       "priyavermaa1198        21\n",
       "dtype: int64"
      ]
     },
     "execution_count": 10,
     "metadata": {},
     "output_type": "execute_result"
    }
   ],
   "source": [
    "df[df['category']=='hard'].groupby('author_id').size().sort_values(ascending=False).head()"
   ]
  },
  {
   "cell_type": "code",
   "execution_count": 11,
   "id": "cc4d37a2",
   "metadata": {
    "execution": {
     "iopub.execute_input": "2022-04-19T16:00:27.280468Z",
     "iopub.status.busy": "2022-04-19T16:00:27.279816Z",
     "iopub.status.idle": "2022-04-19T16:00:27.287128Z",
     "shell.execute_reply": "2022-04-19T16:00:27.287623Z",
     "shell.execute_reply.started": "2022-04-19T15:59:48.032261Z"
    },
    "papermill": {
     "duration": 0.043038,
     "end_time": "2022-04-19T16:00:27.287789",
     "exception": false,
     "start_time": "2022-04-19T16:00:27.244751",
     "status": "completed"
    },
    "tags": []
   },
   "outputs": [
    {
     "data": {
      "text/plain": [
       "author_id\n",
       "GeeksforGeeks      285\n",
       "mishrapriyank17     36\n",
       "pintusaini          34\n",
       "harkiran78          24\n",
       "zack_aayush         22\n",
       "dtype: int64"
      ]
     },
     "execution_count": 11,
     "metadata": {},
     "output_type": "execute_result"
    }
   ],
   "source": [
    "df[df['category']=='expert'].groupby('author_id').size().sort_values(ascending=False).head()"
   ]
  },
  {
   "cell_type": "markdown",
   "id": "fb9ea459",
   "metadata": {
    "papermill": {
     "duration": 0.02809,
     "end_time": "2022-04-19T16:00:27.344547",
     "exception": false,
     "start_time": "2022-04-19T16:00:27.316457",
     "status": "completed"
    },
    "tags": []
   },
   "source": [
    "GeeksforGeeks is the most popular author in all the categories."
   ]
  },
  {
   "cell_type": "markdown",
   "id": "49fd8329",
   "metadata": {
    "papermill": {
     "duration": 0.027882,
     "end_time": "2022-04-19T16:00:27.401675",
     "exception": false,
     "start_time": "2022-04-19T16:00:27.373793",
     "status": "completed"
    },
    "tags": []
   },
   "source": [
    "## 3) Most number of articles( based on category)"
   ]
  },
  {
   "cell_type": "code",
   "execution_count": 12,
   "id": "0d238fd9",
   "metadata": {
    "execution": {
     "iopub.execute_input": "2022-04-19T16:00:27.461480Z",
     "iopub.status.busy": "2022-04-19T16:00:27.460866Z",
     "iopub.status.idle": "2022-04-19T16:00:27.469798Z",
     "shell.execute_reply": "2022-04-19T16:00:27.470228Z",
     "shell.execute_reply.started": "2022-04-19T15:59:48.050080Z"
    },
    "papermill": {
     "duration": 0.04042,
     "end_time": "2022-04-19T16:00:27.470387",
     "exception": false,
     "start_time": "2022-04-19T16:00:27.429967",
     "status": "completed"
    },
    "tags": []
   },
   "outputs": [
    {
     "data": {
      "text/plain": [
       "category\n",
       "basic      8140\n",
       "easy       9654\n",
       "expert     2094\n",
       "hard       4232\n",
       "medium    10431\n",
       "dtype: int64"
      ]
     },
     "execution_count": 12,
     "metadata": {},
     "output_type": "execute_result"
    }
   ],
   "source": [
    "df.groupby('category').size()"
   ]
  },
  {
   "cell_type": "code",
   "execution_count": 13,
   "id": "a240e664",
   "metadata": {
    "execution": {
     "iopub.execute_input": "2022-04-19T16:00:27.530792Z",
     "iopub.status.busy": "2022-04-19T16:00:27.530141Z",
     "iopub.status.idle": "2022-04-19T16:00:27.711050Z",
     "shell.execute_reply": "2022-04-19T16:00:27.710506Z",
     "shell.execute_reply.started": "2022-04-19T15:59:48.063534Z"
    },
    "papermill": {
     "duration": 0.212038,
     "end_time": "2022-04-19T16:00:27.711191",
     "exception": false,
     "start_time": "2022-04-19T16:00:27.499153",
     "status": "completed"
    },
    "tags": []
   },
   "outputs": [
    {
     "data": {
      "text/plain": [
       "<AxesSubplot:xlabel='category'>"
      ]
     },
     "execution_count": 13,
     "metadata": {},
     "output_type": "execute_result"
    },
    {
     "data": {
      "image/png": "[encoded data removed]",
      "text/plain": [
       "<Figure size 432x288 with 1 Axes>"
      ]
     },
     "metadata": {
      "needs_background": "light"
     },
     "output_type": "display_data"
    }
   ],
   "source": [
    "df.groupby('category').size().sort_values(ascending = True).plot(kind = 'bar',color='orange')"
   ]
  },
  {
   "cell_type": "markdown",
   "id": "5aa24c50",
   "metadata": {
    "papermill": {
     "duration": 0.029383,
     "end_time": "2022-04-19T16:00:27.771125",
     "exception": false,
     "start_time": "2022-04-19T16:00:27.741742",
     "status": "completed"
    },
    "tags": []
   },
   "source": [
    "Medium category is having the most number of articles published and expert is having the least."
   ]
  },
  {
   "cell_type": "markdown",
   "id": "d55c7f8d",
   "metadata": {
    "papermill": {
     "duration": 0.029395,
     "end_time": "2022-04-19T16:00:27.830738",
     "exception": false,
     "start_time": "2022-04-19T16:00:27.801343",
     "status": "completed"
    },
    "tags": []
   },
   "source": [
    "## 4) Percentage of articles are in expert category out of total number of articles."
   ]
  },
  {
   "cell_type": "code",
   "execution_count": 14,
   "id": "0ce82feb",
   "metadata": {
    "execution": {
     "iopub.execute_input": "2022-04-19T16:00:27.895214Z",
     "iopub.status.busy": "2022-04-19T16:00:27.894460Z",
     "iopub.status.idle": "2022-04-19T16:00:27.903216Z",
     "shell.execute_reply": "2022-04-19T16:00:27.904019Z",
     "shell.execute_reply.started": "2022-04-19T15:59:48.287707Z"
    },
    "papermill": {
     "duration": 0.042916,
     "end_time": "2022-04-19T16:00:27.904259",
     "exception": false,
     "start_time": "2022-04-19T16:00:27.861343",
     "status": "completed"
    },
    "tags": []
   },
   "outputs": [
    {
     "name": "stdout",
     "output_type": "stream",
     "text": [
      "6.0\n"
     ]
    }
   ],
   "source": [
    "total_articles=len(df)\n",
    "expert_articles=len(df[df['category']=='expert'])\n",
    "percent=round((expert_articles/total_articles)*100,0)\n",
    "print(percent)"
   ]
  },
  {
   "cell_type": "markdown",
   "id": "020f0ba7",
   "metadata": {
    "papermill": {
     "duration": 0.029654,
     "end_time": "2022-04-19T16:00:27.964982",
     "exception": false,
     "start_time": "2022-04-19T16:00:27.935328",
     "status": "completed"
    },
    "tags": []
   },
   "source": [
    "Out of total number of articles 6% are expert category articles."
   ]
  },
  {
   "cell_type": "markdown",
   "id": "9e73c541",
   "metadata": {
    "papermill": {
     "duration": 0.029324,
     "end_time": "2022-04-19T16:00:28.023768",
     "exception": false,
     "start_time": "2022-04-19T16:00:27.994444",
     "status": "completed"
    },
    "tags": []
   },
   "source": [
    "## 5) Day-wise Analysis"
   ]
  },
  {
   "cell_type": "code",
   "execution_count": 15,
   "id": "50f113cd",
   "metadata": {
    "execution": {
     "iopub.execute_input": "2022-04-19T16:00:28.088231Z",
     "iopub.status.busy": "2022-04-19T16:00:28.087272Z",
     "iopub.status.idle": "2022-04-19T16:00:28.224021Z",
     "shell.execute_reply": "2022-04-19T16:00:28.224522Z",
     "shell.execute_reply.started": "2022-04-19T15:59:48.297950Z"
    },
    "papermill": {
     "duration": 0.170104,
     "end_time": "2022-04-19T16:00:28.224723",
     "exception": false,
     "start_time": "2022-04-19T16:00:28.054619",
     "status": "completed"
    },
    "tags": []
   },
   "outputs": [],
   "source": [
    "df = df[df['last_updated'] != 'Easy']\n",
    "df = df[df['last_updated'] != 'Basic']\n",
    "df = df[df['last_updated'] != 'Medium']\n",
    "df = df[df['last_updated'] != 'Hard']\n",
    "df = df[df['last_updated'] != 'Expert']\n",
    "\n",
    "data = df.values\n",
    "\n",
    "\n",
    "day   = []\n",
    "month = []\n",
    "year  = []\n",
    "\n",
    "for i in range(len(data)):\n",
    "    day.append(int(data[i][2].split(' ')[0]))\n",
    "    month.append(data[i][2].split(' ')[1][:-1])\n",
    "    year.append(int(data[i][2].split(' ')[2]))\n",
    "    \n",
    "df['day'] = day\n",
    "df['month'] = month\n",
    "df['year'] = year"
   ]
  },
  {
   "cell_type": "code",
   "execution_count": 16,
   "id": "4093e3b2",
   "metadata": {
    "execution": {
     "iopub.execute_input": "2022-04-19T16:00:28.296226Z",
     "iopub.status.busy": "2022-04-19T16:00:28.295516Z",
     "iopub.status.idle": "2022-04-19T16:00:28.298151Z",
     "shell.execute_reply": "2022-04-19T16:00:28.298563Z",
     "shell.execute_reply.started": "2022-04-19T15:59:48.528551Z"
    },
    "papermill": {
     "duration": 0.044397,
     "end_time": "2022-04-19T16:00:28.298745",
     "exception": false,
     "start_time": "2022-04-19T16:00:28.254348",
     "status": "completed"
    },
    "tags": []
   },
   "outputs": [
    {
     "data": {
      "text/html": [
       "<div>\n",
       "<style scoped>\n",
       "    .dataframe tbody tr th:only-of-type {\n",
       "        vertical-align: middle;\n",
       "    }\n",
       "\n",
       "    .dataframe tbody tr th {\n",
       "        vertical-align: top;\n",
       "    }\n",
       "\n",
       "    .dataframe thead th {\n",
       "        text-align: right;\n",
       "    }\n",
       "</style>\n",
       "<table border=\"1\" class=\"dataframe\">\n",
       "  <thead>\n",
       "    <tr style=\"text-align: right;\">\n",
       "      <th></th>\n",
       "      <th>title</th>\n",
       "      <th>author_id</th>\n",
       "      <th>last_updated</th>\n",
       "      <th>link</th>\n",
       "      <th>category</th>\n",
       "      <th>day</th>\n",
       "      <th>month</th>\n",
       "      <th>year</th>\n",
       "    </tr>\n",
       "  </thead>\n",
       "  <tbody>\n",
       "    <tr>\n",
       "      <th>0</th>\n",
       "      <td>5 Best Practices For Writing SQL Joins</td>\n",
       "      <td>priyankab14</td>\n",
       "      <td>21 Feb, 2022</td>\n",
       "      <td>https://www.geeksforgeeks.org/5-best-practices...</td>\n",
       "      <td>easy</td>\n",
       "      <td>21</td>\n",
       "      <td>Feb</td>\n",
       "      <td>2022</td>\n",
       "    </tr>\n",
       "    <tr>\n",
       "      <th>1</th>\n",
       "      <td>Foundation CSS Dropdown Menu</td>\n",
       "      <td>ishankhandelwals</td>\n",
       "      <td>20 Feb, 2022</td>\n",
       "      <td>https://www.geeksforgeeks.org/foundation-css-d...</td>\n",
       "      <td>easy</td>\n",
       "      <td>20</td>\n",
       "      <td>Feb</td>\n",
       "      <td>2022</td>\n",
       "    </tr>\n",
       "    <tr>\n",
       "      <th>2</th>\n",
       "      <td>Top 20 Excel Shortcuts That You Need To Know</td>\n",
       "      <td>priyankab14</td>\n",
       "      <td>17 Feb, 2022</td>\n",
       "      <td>https://www.geeksforgeeks.org/top-20-excel-sho...</td>\n",
       "      <td>easy</td>\n",
       "      <td>17</td>\n",
       "      <td>Feb</td>\n",
       "      <td>2022</td>\n",
       "    </tr>\n",
       "    <tr>\n",
       "      <th>3</th>\n",
       "      <td>Servlet – Fetching Result</td>\n",
       "      <td>nishatiwari1719</td>\n",
       "      <td>17 Feb, 2022</td>\n",
       "      <td>https://www.geeksforgeeks.org/servlet-fetching...</td>\n",
       "      <td>easy</td>\n",
       "      <td>17</td>\n",
       "      <td>Feb</td>\n",
       "      <td>2022</td>\n",
       "    </tr>\n",
       "    <tr>\n",
       "      <th>4</th>\n",
       "      <td>Suffix Sum Array</td>\n",
       "      <td>rohit768</td>\n",
       "      <td>21 Feb, 2022</td>\n",
       "      <td>https://www.geeksforgeeks.org/suffix-sum-array/</td>\n",
       "      <td>easy</td>\n",
       "      <td>21</td>\n",
       "      <td>Feb</td>\n",
       "      <td>2022</td>\n",
       "    </tr>\n",
       "  </tbody>\n",
       "</table>\n",
       "</div>"
      ],
      "text/plain": [
       "                                          title         author_id  \\\n",
       "0        5 Best Practices For Writing SQL Joins       priyankab14   \n",
       "1                  Foundation CSS Dropdown Menu  ishankhandelwals   \n",
       "2  Top 20 Excel Shortcuts That You Need To Know       priyankab14   \n",
       "3                     Servlet – Fetching Result   nishatiwari1719   \n",
       "4                              Suffix Sum Array          rohit768   \n",
       "\n",
       "   last_updated                                               link category  \\\n",
       "0  21 Feb, 2022  https://www.geeksforgeeks.org/5-best-practices...     easy   \n",
       "1  20 Feb, 2022  https://www.geeksforgeeks.org/foundation-css-d...     easy   \n",
       "2  17 Feb, 2022  https://www.geeksforgeeks.org/top-20-excel-sho...     easy   \n",
       "3  17 Feb, 2022  https://www.geeksforgeeks.org/servlet-fetching...     easy   \n",
       "4  21 Feb, 2022    https://www.geeksforgeeks.org/suffix-sum-array/     easy   \n",
       "\n",
       "   day month  year  \n",
       "0   21   Feb  2022  \n",
       "1   20   Feb  2022  \n",
       "2   17   Feb  2022  \n",
       "3   17   Feb  2022  \n",
       "4   21   Feb  2022  "
      ]
     },
     "execution_count": 16,
     "metadata": {},
     "output_type": "execute_result"
    }
   ],
   "source": [
    "df.head()"
   ]
  },
  {
   "cell_type": "code",
   "execution_count": 17,
   "id": "d49ce751",
   "metadata": {
    "execution": {
     "iopub.execute_input": "2022-04-19T16:00:28.364733Z",
     "iopub.status.busy": "2022-04-19T16:00:28.362343Z",
     "iopub.status.idle": "2022-04-19T16:00:28.772851Z",
     "shell.execute_reply": "2022-04-19T16:00:28.773319Z",
     "shell.execute_reply.started": "2022-04-19T15:59:48.540926Z"
    },
    "papermill": {
     "duration": 0.444536,
     "end_time": "2022-04-19T16:00:28.773481",
     "exception": false,
     "start_time": "2022-04-19T16:00:28.328945",
     "status": "completed"
    },
    "tags": []
   },
   "outputs": [
    {
     "data": {
      "text/plain": [
       "<AxesSubplot:xlabel='day'>"
      ]
     },
     "execution_count": 17,
     "metadata": {},
     "output_type": "execute_result"
    },
    {
     "data": {
      "image/png": "[encoded data removed]",
      "text/plain": [
       "<Figure size 432x288 with 1 Axes>"
      ]
     },
     "metadata": {
      "needs_background": "light"
     },
     "output_type": "display_data"
    }
   ],
   "source": [
    "df.groupby('day').size().plot(kind = 'bar')"
   ]
  },
  {
   "cell_type": "markdown",
   "id": "33c91770",
   "metadata": {
    "papermill": {
     "duration": 0.030958,
     "end_time": "2022-04-19T16:00:28.835999",
     "exception": false,
     "start_time": "2022-04-19T16:00:28.805041",
     "status": "completed"
    },
    "tags": []
   },
   "source": [
    "The maximum number of articles are published on 28th day of a month rather than any other day."
   ]
  },
  {
   "cell_type": "markdown",
   "id": "88771a9f",
   "metadata": {
    "papermill": {
     "duration": 0.031858,
     "end_time": "2022-04-19T16:00:28.898979",
     "exception": false,
     "start_time": "2022-04-19T16:00:28.867121",
     "status": "completed"
    },
    "tags": []
   },
   "source": [
    "## 6) Month-wise Analysis"
   ]
  },
  {
   "cell_type": "code",
   "execution_count": 18,
   "id": "ad389503",
   "metadata": {
    "execution": {
     "iopub.execute_input": "2022-04-19T16:00:28.966870Z",
     "iopub.status.busy": "2022-04-19T16:00:28.966185Z",
     "iopub.status.idle": "2022-04-19T16:00:29.162909Z",
     "shell.execute_reply": "2022-04-19T16:00:29.163348Z",
     "shell.execute_reply.started": "2022-04-19T15:59:48.859755Z"
    },
    "papermill": {
     "duration": 0.232647,
     "end_time": "2022-04-19T16:00:29.163524",
     "exception": false,
     "start_time": "2022-04-19T16:00:28.930877",
     "status": "completed"
    },
    "scrolled": true,
    "tags": []
   },
   "outputs": [
    {
     "data": {
      "text/plain": [
       "<AxesSubplot:xlabel='month'>"
      ]
     },
     "execution_count": 18,
     "metadata": {},
     "output_type": "execute_result"
    },
    {
     "data": {
      "image/png": "[encoded data removed]",
      "text/plain": [
       "<Figure size 432x288 with 1 Axes>"
      ]
     },
     "metadata": {
      "needs_background": "light"
     },
     "output_type": "display_data"
    }
   ],
   "source": [
    "df.groupby('month').size().plot(kind = 'bar')"
   ]
  },
  {
   "cell_type": "markdown",
   "id": "90ad37a4",
   "metadata": {
    "papermill": {
     "duration": 0.032455,
     "end_time": "2022-04-19T16:00:29.229656",
     "exception": false,
     "start_time": "2022-04-19T16:00:29.197201",
     "status": "completed"
    },
    "tags": []
   },
   "source": [
    "The month of March has least number of articles published and articles published are at peak in June."
   ]
  },
  {
   "cell_type": "markdown",
   "id": "7cb6268e",
   "metadata": {
    "papermill": {
     "duration": 0.032965,
     "end_time": "2022-04-19T16:00:29.295134",
     "exception": false,
     "start_time": "2022-04-19T16:00:29.262169",
     "status": "completed"
    },
    "tags": []
   },
   "source": [
    "## 7) Year-wise Analysis"
   ]
  },
  {
   "cell_type": "code",
   "execution_count": 19,
   "id": "88fc5de7",
   "metadata": {
    "execution": {
     "iopub.execute_input": "2022-04-19T16:00:29.363484Z",
     "iopub.status.busy": "2022-04-19T16:00:29.362863Z",
     "iopub.status.idle": "2022-04-19T16:00:29.553164Z",
     "shell.execute_reply": "2022-04-19T16:00:29.552627Z",
     "shell.execute_reply.started": "2022-04-19T15:59:49.092542Z"
    },
    "papermill": {
     "duration": 0.225506,
     "end_time": "2022-04-19T16:00:29.553300",
     "exception": false,
     "start_time": "2022-04-19T16:00:29.327794",
     "status": "completed"
    },
    "tags": []
   },
   "outputs": [
    {
     "data": {
      "text/plain": [
       "<AxesSubplot:xlabel='year'>"
      ]
     },
     "execution_count": 19,
     "metadata": {},
     "output_type": "execute_result"
    },
    {
     "data": {
      "image/png": "[encoded data removed]",
      "text/plain": [
       "<Figure size 432x288 with 1 Axes>"
      ]
     },
     "metadata": {
      "needs_background": "light"
     },
     "output_type": "display_data"
    }
   ],
   "source": [
    "df.groupby('year').size().plot(kind = 'bar')"
   ]
  },
  {
   "cell_type": "markdown",
   "id": "08f349a9",
   "metadata": {
    "papermill": {
     "duration": 0.034625,
     "end_time": "2022-04-19T16:00:29.622271",
     "exception": false,
     "start_time": "2022-04-19T16:00:29.587646",
     "status": "completed"
    },
    "tags": []
   },
   "source": [
    "Thers is an upward trend in the number of articles published and it is expected to see a similar trend in the ongoing year 2022."
   ]
  },
  {
   "cell_type": "markdown",
   "id": "c6398e47",
   "metadata": {
    "papermill": {
     "duration": 0.033031,
     "end_time": "2022-04-19T16:00:29.688794",
     "exception": false,
     "start_time": "2022-04-19T16:00:29.655763",
     "status": "completed"
    },
    "tags": []
   },
   "source": [
    "## 8) Growth Rate of articles written 2021 as compare to 2020"
   ]
  },
  {
   "cell_type": "code",
   "execution_count": 20,
   "id": "5b9ea948",
   "metadata": {
    "execution": {
     "iopub.execute_input": "2022-04-19T16:00:29.759054Z",
     "iopub.status.busy": "2022-04-19T16:00:29.758381Z",
     "iopub.status.idle": "2022-04-19T16:00:29.765901Z",
     "shell.execute_reply": "2022-04-19T16:00:29.766473Z",
     "shell.execute_reply.started": "2022-04-19T15:59:49.323989Z"
    },
    "papermill": {
     "duration": 0.044781,
     "end_time": "2022-04-19T16:00:29.766671",
     "exception": false,
     "start_time": "2022-04-19T16:00:29.721890",
     "status": "completed"
    },
    "tags": []
   },
   "outputs": [
    {
     "data": {
      "text/plain": [
       "year\n",
       "2021    18613\n",
       "2020     4625\n",
       "2019     3985\n",
       "2022     3187\n",
       "2018     2522\n",
       "2017     1021\n",
       "2016      200\n",
       "2015      172\n",
       "2013       70\n",
       "2014       53\n",
       "2012        5\n",
       "2010        1\n",
       "2011        1\n",
       "dtype: int64"
      ]
     },
     "execution_count": 20,
     "metadata": {},
     "output_type": "execute_result"
    }
   ],
   "source": [
    "df.groupby('year').size().sort_values(ascending=False)"
   ]
  },
  {
   "cell_type": "code",
   "execution_count": 21,
   "id": "03d760d0",
   "metadata": {
    "execution": {
     "iopub.execute_input": "2022-04-19T16:00:29.838836Z",
     "iopub.status.busy": "2022-04-19T16:00:29.838194Z",
     "iopub.status.idle": "2022-04-19T16:00:29.842465Z",
     "shell.execute_reply": "2022-04-19T16:00:29.842973Z",
     "shell.execute_reply.started": "2022-04-19T15:59:49.335238Z"
    },
    "papermill": {
     "duration": 0.042495,
     "end_time": "2022-04-19T16:00:29.843145",
     "exception": false,
     "start_time": "2022-04-19T16:00:29.800650",
     "status": "completed"
    },
    "tags": []
   },
   "outputs": [
    {
     "name": "stdout",
     "output_type": "stream",
     "text": [
      "302\n"
     ]
    }
   ],
   "source": [
    "growth_rate=int((18613-4625)/4625*100)\n",
    "print(growth_rate)"
   ]
  },
  {
   "cell_type": "markdown",
   "id": "bc6b2a6f",
   "metadata": {
    "papermill": {
     "duration": 0.033403,
     "end_time": "2022-04-19T16:00:29.910323",
     "exception": false,
     "start_time": "2022-04-19T16:00:29.876920",
     "status": "completed"
    },
    "tags": []
   },
   "source": [
    "Growth rate is found to be 302 % compared to the year 2020."
   ]
  },
  {
   "cell_type": "markdown",
   "id": "f3a968b1",
   "metadata": {
    "papermill": {
     "duration": 0.033531,
     "end_time": "2022-04-19T16:00:29.978528",
     "exception": false,
     "start_time": "2022-04-19T16:00:29.944997",
     "status": "completed"
    },
    "tags": []
   },
   "source": [
    "## 9) Finding articles based on tags(like Data Science)"
   ]
  },
  {
   "cell_type": "code",
   "execution_count": 22,
   "id": "3b577645",
   "metadata": {
    "execution": {
     "iopub.execute_input": "2022-04-19T16:00:30.075954Z",
     "iopub.status.busy": "2022-04-19T16:00:30.053902Z",
     "iopub.status.idle": "2022-04-19T16:00:30.085001Z",
     "shell.execute_reply": "2022-04-19T16:00:30.084348Z",
     "shell.execute_reply.started": "2022-04-19T15:59:49.340850Z"
    },
    "papermill": {
     "duration": 0.072834,
     "end_time": "2022-04-19T16:00:30.085148",
     "exception": false,
     "start_time": "2022-04-19T16:00:30.012314",
     "status": "completed"
    },
    "tags": []
   },
   "outputs": [
    {
     "name": "stdout",
     "output_type": "stream",
     "text": [
      "Top 10 Data Science Blogs for 2021 https://www.geeksforgeeks.org/top-10-data-science-blogs-for-2021/\n",
      "How is Data Science Changing the Healthcare Industry? https://www.geeksforgeeks.org/how-is-data-science-changing-the-healthcare-industry/\n",
      "What’s Data Science Pipeline? https://www.geeksforgeeks.org/whats-data-science-pipeline/\n",
      "4 Key Pillars of Data Science https://www.geeksforgeeks.org/4-key-pillars-of-data-science/\n",
      "ZS Associates Interview Experience for Data Science Associate https://www.geeksforgeeks.org/zs-associates-interview-experience-for-data-science-associate/\n",
      "Top 8 Data Science Competitions To Consider in 2021 https://www.geeksforgeeks.org/8-most-popular-data-science-competitions/\n",
      "Commonly used file formats in Data Science https://www.geeksforgeeks.org/commonly-used-file-formats-in-data-science/\n",
      "Machine Learning and Data Science https://www.geeksforgeeks.org/machine-learning-and-data-science/\n",
      "Introduction to Data Science https://www.geeksforgeeks.org/introduction-to-data-science/\n",
      "Overview of Data Science https://www.geeksforgeeks.org/overview-of-data-science/\n",
      "Introduction to Data Science : Skills Required https://www.geeksforgeeks.org/introduction-data-science-skills-required/\n",
      "NoBroker Interview Experience for Data Science FTE | On-Campus 2021 https://www.geeksforgeeks.org/nobroker-interview-experience-for-data-science-fte-on-campus-2021/\n",
      "7 Basic Statistics Concepts For Data Science https://www.geeksforgeeks.org/7-basic-statistics-concepts-for-data-science/\n",
      "7 Best Books to Learn Statistics and Mathematics For Data Science https://www.geeksforgeeks.org/7-best-books-to-learn-statistics-and-mathematics-for-data-science/\n",
      "Top Kaggle Courses For Data Science https://www.geeksforgeeks.org/top-kaggle-courses-for-data-science/\n",
      "How to Find Your Data Science Mentor in 2021? https://www.geeksforgeeks.org/how-to-find-your-data-science-mentor-in-2021/\n",
      "How to Get an Internship in Data Science? https://www.geeksforgeeks.org/how-to-get-an-internship-in-data-science/\n",
      "Top 10 Python Libraries for Data Science in 2021 https://www.geeksforgeeks.org/top-10-python-libraries-for-data-science-in-2021/\n",
      "What is Data Science? https://www.geeksforgeeks.org/what-is-data-science/\n",
      "Data Science VS Machine Learning https://www.geeksforgeeks.org/data-science-vs-machine-learning/\n",
      "Python IDEs For Data Science https://www.geeksforgeeks.org/python-ides-for-data-science/\n",
      "Python for Data Science https://www.geeksforgeeks.org/python-for-data-science/\n",
      "7 Best Games To Enhance Your Data Science Skills https://www.geeksforgeeks.org/7-best-games-to-enhance-your-data-science-skills/\n",
      "10 Data Science Project Ideas for Beginners https://www.geeksforgeeks.org/10-data-science-project-ideas-for-beginners/\n",
      "What is Prescriptive Analytics in Data Science? https://www.geeksforgeeks.org/what-is-prescriptive-analytics-in-data-science/\n",
      "Data Science – Solving Linear Equations https://www.geeksforgeeks.org/data-science-solving-linear-equations-2/\n",
      "ADF Data Science Interview Experience | On-Campus 2019 https://www.geeksforgeeks.org/adf-data-science-interview-experience-on-campus-2019/\n",
      "Data Science Methodology and Approach https://www.geeksforgeeks.org/data-science-methodology-and-approach/\n",
      "Top Online Courses to Learn Data Science with Certifications https://www.geeksforgeeks.org/top-online-courses-to-learn-data-science-with-certifications/\n",
      "Interview with 1MG.com DATA SCIENCE profile https://www.geeksforgeeks.org/interview-with-1mg-com-data-science-profile/\n",
      "7 Tips to Make a Smooth Career Transition to Data Science https://www.geeksforgeeks.org/7-tips-to-make-a-smooth-career-transition-to-data-science/\n",
      "Difference Between Data Science and Web Development https://www.geeksforgeeks.org/difference-between-data-science-and-web-development/\n",
      "Data Science Project Scope and Its Elements https://www.geeksforgeeks.org/data-science-project-scope-and-its-elements/\n",
      "11 Industries That Benefits the Most From Data Science https://www.geeksforgeeks.org/11-industries-that-benefits-the-most-from-data-science/\n",
      "Deloitte Interview Experience | Set 3 (On-Campus Data Sciences Profile) https://www.geeksforgeeks.org/deloitte-interview-experience-set-3-on-campus-data-sciences-profile/\n",
      "35\n"
     ]
    }
   ],
   "source": [
    "tag = 'data Science'.lower()\n",
    "findings=[]\n",
    "for i in range(len(data)):\n",
    "    if tag in data[i][0].lower():\n",
    "        findings.append(data[i][0])\n",
    "        print(data[i][0], data[i][3])\n",
    "\n",
    "print (len(findings))"
   ]
  },
  {
   "cell_type": "markdown",
   "id": "493f8433",
   "metadata": {
    "papermill": {
     "duration": 0.03472,
     "end_time": "2022-04-19T16:00:30.155345",
     "exception": false,
     "start_time": "2022-04-19T16:00:30.120625",
     "status": "completed"
    },
    "tags": []
   },
   "source": [
    "There are a total of 35 articles based on Data Science."
   ]
  }
 ],
 "metadata": {
  "kernelspec": {
   "display_name": "Python 3",
   "language": "python",
   "name": "python3"
  },
  "language_info": {
   "codemirror_mode": {
    "name": "ipython",
    "version": 3
   },
   "file_extension": ".py",
   "mimetype": "text/x-python",
   "name": "python",
   "nbconvert_exporter": "python",
   "pygments_lexer": "ipython3",
   "version": "3.7.12"
  },
  "papermill": {
   "default_parameters": {},
   "duration": 13.569319,
   "end_time": "2022-04-19T16:00:30.799262",
   "environment_variables": {},
   "exception": null,
   "input_path": "__notebook__.ipynb",
   "output_path": "__notebook__.ipynb",
   "parameters": {},
   "start_time": "2022-04-19T16:00:17.229943",
   "version": "2.3.3"
  }
 },
 "nbformat": 4,
 "nbformat_minor": 5
}
